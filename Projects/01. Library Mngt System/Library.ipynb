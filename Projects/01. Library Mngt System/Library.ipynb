{
 "cells": [
  {
   "cell_type": "code",
   "execution_count": 8,
   "metadata": {},
   "outputs": [],
   "source": [
    "# importing typing module for type hints\n",
    "from typing import List, Dict, Union, Optional\n",
    "\n",
    "# 1. Setting up initial data structures\n",
    "books:List[Dict[str, Union[int, str, bool]]] = [\n",
    "\n",
    "    {\"id\": 1,\n",
    "     \"title\": \"To Kill a Mockingbird\",\n",
    "     \"author\": \"Harper Lee\",\n",
    "     \"genre\": \"Fiction\",\n",
    "     \"available\": True,\n",
    "     },\n",
    "\n",
    "    {\"id\": 2,\n",
    "     \"title\": \"Go Set a Watchman\",\n",
    "     \"author\": \"Harper Lee\",\n",
    "     \"genre\": \"Fiction\",\n",
    "     \"available\": True,\n",
    "     },\n",
    "\n",
    "    {\"id\": 3,\n",
    "     \"title\": \"Jane Eyre\",\n",
    "     \"author\": \"Charlotte Brontë\",\n",
    "     \"genre\": \"Romance\",\n",
    "     \"available\": True,\n",
    "     },\n",
    "\n",
    "     {\"id\": 4,\n",
    "     \"title\": \"Pride and Prejudice\",\n",
    "     \"author\": \"Jane Austen\",\n",
    "     \"genre\": \"Romance\",\n",
    "     \"available\": True,\n",
    "     },\n",
    "    \n",
    "]\n",
    "\n",
    "users: List[Dict[str, Union[int, str, Optional[list[str]]]]] = [\n",
    "    {\"id\": 1, \"name\": \"Ali\", \"borrowed\":[]},\n",
    "    {\"id\": 2, \"name\": \"Tariq\" },\n",
    "    {\"id\": 3, \"name\": \"Mujtaba\" },\n",
    "    {\"id\": 4, \"name\": \"Ahmed\"},\n",
    "]\n"
   ]
  },
  {
   "cell_type": "code",
   "execution_count": 14,
   "metadata": {},
   "outputs": [
    {
     "name": "stdout",
     "output_type": "stream",
     "text": [
      "\n",
      " Welcome to Library Management System\n",
      " Choose any option below: \n",
      "You chose 1\n"
     ]
    }
   ],
   "source": [
    "#Creating The Main-Menu\n",
    "prompt: str = \"\\n Welcome to Library Management System\"\n",
    "prompt += \"\\n Choose any option below: \"\n",
    "\n",
    "userinput:int = int(input(\"1-6\"))\n",
    "\n",
    "active_state:bool = True\n",
    "\n",
    "while active_state: \n",
    "    print(prompt)\n",
    "    if(userinput == 1):\n",
    "        print(\"You chose 1\")\n",
    "        break\n",
    "    elif(userinput == 2):\n",
    "        print(\"You chose 2\")\n",
    "        break\n",
    "    elif(userinput == 3):\n",
    "        print(\"You chose 3\")\n",
    "        break\n",
    "    elif(userinput == 4):\n",
    "        print(\"You chose 4\")\n",
    "        break\n",
    "    elif(userinput == 5):\n",
    "        print(\"You chose 5\")\n",
    "        break\n",
    "    elif(userinput == 6):\n",
    "        active_state = False\n",
    "        break\n",
    "    print(\"**************************\")\n",
    "    "
   ]
  }
 ],
 "metadata": {
  "kernelspec": {
   "display_name": "Python 3",
   "language": "python",
   "name": "python3"
  },
  "language_info": {
   "codemirror_mode": {
    "name": "ipython",
    "version": 3
   },
   "file_extension": ".py",
   "mimetype": "text/x-python",
   "name": "python",
   "nbconvert_exporter": "python",
   "pygments_lexer": "ipython3",
   "version": "3.12.4"
  }
 },
 "nbformat": 4,
 "nbformat_minor": 2
}
