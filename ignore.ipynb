{
 "cells": [
  {
   "cell_type": "code",
   "execution_count": 3,
   "metadata": {},
   "outputs": [
    {
     "name": "stdout",
     "output_type": "stream",
     "text": [
      "Sum of 3 and 2 is 5.\n"
     ]
    }
   ],
   "source": [
    "#1. Write a Python program that takes two integer inputs from the user, calculates their sum, and prints the result.\n",
    "num1:int = int(input(\"Enter a number: \"))\n",
    "num2:int = int(input(\"Enter second number: \"))\n",
    "\n",
    "sum:int = num1+num2\n",
    "\n",
    "print(f\"Sum of {num1} and {num2} is {sum}.\")"
   ]
  },
  {
   "cell_type": "code",
   "execution_count": 5,
   "metadata": {},
   "outputs": [
    {
     "name": "stdout",
     "output_type": "stream",
     "text": [
      "My favourite animal is also Lion!\n"
     ]
    }
   ],
   "source": [
    "#Write a Python program that asks the user for their favorite animal and responds with, \n",
    "#\"My favorite animal is also [user's favorite animal]!\n",
    "\n",
    "fav_animal:str = input(\"What's your animal?\")\n",
    "print(f\"My favourite animal is also {fav_animal}!\") "
   ]
  },
  {
   "cell_type": "code",
   "execution_count": 12,
   "metadata": {},
   "outputs": [
    {
     "name": "stdout",
     "output_type": "stream",
     "text": [
      "104.0F is  40.00C\n"
     ]
    }
   ],
   "source": [
    "#Write a Python program to convert a temperature from Fahrenheit to Celsius using the formula:  \n",
    "#**degrees_celsius = (degrees_fahrenheit - 32) \\* 5.0/9.0**\n",
    "\n",
    "fahrenheit:float = float(input(\"Enter temperature in Fahrenheit: \"))\n",
    "celsius:float = (fahrenheit - 32)*(5/9)\n",
    "print(f'{fahrenheit}F is {celsius: .2f}C')"
   ]
  },
  {
   "cell_type": "code",
   "execution_count": 13,
   "metadata": {},
   "outputs": [
    {
     "name": "stdout",
     "output_type": "stream",
     "text": [
      "The perimeter of triangle is 6.0.\n"
     ]
    }
   ],
   "source": [
    "#Prompt the user to enter the lengths of three sides of a triangle and then calculate and print the perimeter of the triangle.\n",
    "\n",
    "side1:float = float(input(\"Enter the length of side 1: \"))\n",
    "side2:float = float(input(\"Enter the length of side 2: \"))\n",
    "side3:float = float(input(\"Enter the length of side 3: \"))\n",
    "\n",
    "print(f\"The perimeter of triangle is {side1+side2+side3}.\")"
   ]
  },
  {
   "cell_type": "code",
   "execution_count": 14,
   "metadata": {},
   "outputs": [
    {
     "name": "stdout",
     "output_type": "stream",
     "text": [
      "The square of 2 is 4.\n"
     ]
    }
   ],
   "source": [
    "#Ask the user for a number and print its square.\n",
    "\n",
    "number:int = int(input(\"Enter the number you wanna calculate the square of: \"))\n",
    "square:int = number*number\n",
    "\n",
    "print(f\"The square of {number} is {square}.\")"
   ]
  },
  {
   "cell_type": "code",
   "execution_count": 21,
   "metadata": {},
   "outputs": [
    {
     "name": "stdout",
     "output_type": "stream",
     "text": [
      "[1, 3]\n"
     ]
    }
   ],
   "source": [
    "# Task 6: Delete a Number from a List.\n",
    "\n",
    "numbers:list = [1, 2, 3, 4]\n",
    "\n",
    "numbers.remove(2)  #Deletes the first occurrence of a specific value.\n",
    "del(numbers[2]) #Deletes the element at a specific index\n",
    "\n",
    "print(numbers)"
   ]
  },
  {
   "cell_type": "code",
   "execution_count": 22,
   "metadata": {},
   "outputs": [
    {
     "name": "stdout",
     "output_type": "stream",
     "text": [
      "[1, 2, 3, 4, 4, 5, 6]\n"
     ]
    }
   ],
   "source": [
    "# Create a program that adds the elements of `list2` to `list1` using a list method.\n",
    "\n",
    "list1: list = [1, 2, 3, 4]\n",
    "list2: list= [4, 5, 6]\n",
    "\n",
    "list1.extend(list2)\n",
    "\n",
    "print(list1)"
   ]
  },
  {
   "cell_type": "code",
   "execution_count": 23,
   "metadata": {},
   "outputs": [
    {
     "name": "stdout",
     "output_type": "stream",
     "text": [
      "[10, 20, 30]\n"
     ]
    }
   ],
   "source": [
    "# Demonstrate the effect of the pop method on a list called `items = [10, 20, 30, 40]`.\n",
    "\n",
    "items: list = [10, 20, 30, 40]\n",
    "\n",
    "items.pop()\n",
    "\n",
    "print(items)"
   ]
  },
  {
   "cell_type": "code",
   "execution_count": 24,
   "metadata": {},
   "outputs": [
    {
     "name": "stdout",
     "output_type": "stream",
     "text": [
      "2\n"
     ]
    }
   ],
   "source": [
    "# Find the index of `'green'` in the list `colors = ['red', 'blue', 'green', 'yellow']`.\n",
    "\n",
    "colors: list = ['red', 'blue', 'green', 'yellow']\n",
    "print(colors.index('green'))"
   ]
  },
  {
   "cell_type": "code",
   "execution_count": null,
   "metadata": {},
   "outputs": [],
   "source": []
  }
 ],
 "metadata": {
  "kernelspec": {
   "display_name": "Python 3",
   "language": "python",
   "name": "python3"
  },
  "language_info": {
   "codemirror_mode": {
    "name": "ipython",
    "version": 3
   },
   "file_extension": ".py",
   "mimetype": "text/x-python",
   "name": "python",
   "nbconvert_exporter": "python",
   "pygments_lexer": "ipython3",
   "version": "3.12.4"
  }
 },
 "nbformat": 4,
 "nbformat_minor": 2
}
